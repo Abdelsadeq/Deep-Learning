{
  "nbformat": 4,
  "nbformat_minor": 0,
  "metadata": {
    "colab": {
      "name": "Minist_Fasion_with_more_advanced_nn.ipynb",
      "provenance": [],
      "authorship_tag": "ABX9TyNwLa1fW0lHLz653zxTEkyQ",
      "include_colab_link": true
    },
    "kernelspec": {
      "name": "python3",
      "display_name": "Python 3"
    },
    "accelerator": "GPU"
  },
  "cells": [
    {
      "cell_type": "markdown",
      "metadata": {
        "id": "view-in-github",
        "colab_type": "text"
      },
      "source": [
        "<a href=\"https://colab.research.google.com/github/Abdelsadeq/Deep-Learning/blob/main/Minist_Fasion_with_more_advanced_nn.ipynb\" target=\"_parent\"><img src=\"https://colab.research.google.com/assets/colab-badge.svg\" alt=\"Open In Colab\"/></a>"
      ]
    },
    {
      "cell_type": "code",
      "metadata": {
        "id": "Hvct7SAwwUU1"
      },
      "source": [
        "from __future__ import print_function\r\n",
        "import numpy as np\r\n",
        "import pandas as pd\r\n",
        "import matplotlib.pyplot as plt\r\n",
        "import keras\r\n",
        "from keras.models import Sequential\r\n",
        "from keras.layers import Dense,Dropout,Flatten\r\n",
        "from keras.layers import Conv2D,MaxPool2D\r\n",
        "from keras import backend as k\r\n"
      ],
      "execution_count": 1,
      "outputs": []
    },
    {
      "cell_type": "code",
      "metadata": {
        "id": "MWvwWGFdzAzN"
      },
      "source": [
        "batch_size = 128\r\n",
        "num_classes = 10\r\n",
        "epocs = 12\r\n"
      ],
      "execution_count": 2,
      "outputs": []
    },
    {
      "cell_type": "code",
      "metadata": {
        "colab": {
          "base_uri": "https://localhost:8080/"
        },
        "id": "3cF6XgsBzQ2I",
        "outputId": "a4606a05-11a3-419c-fe93-5ccd1d91f587"
      },
      "source": [
        "img_row, img_col = 28,28\r\n",
        "(x_train, y_train),(x_test, y_test) = keras.datasets.mnist.load_data()"
      ],
      "execution_count": 3,
      "outputs": [
        {
          "output_type": "stream",
          "text": [
            "Downloading data from https://storage.googleapis.com/tensorflow/tf-keras-datasets/mnist.npz\n",
            "11493376/11490434 [==============================] - 0s 0us/step\n"
          ],
          "name": "stdout"
        }
      ]
    },
    {
      "cell_type": "code",
      "metadata": {
        "id": "iOLh4yKD5xIu"
      },
      "source": [
        "if k.image_data_format == 'channels_first':\r\n",
        "  x_train = x_train.reshape(x_train.shape[0],1,img_row,img_col)\r\n",
        "  x_test = x_test.reshape(x_test.shape[0],1,img_row,img_col)\r\n",
        "  input_shape = (1,img_row,img_col)\r\n",
        "else:\r\n",
        "  x_train = x_train.reshape(x_train.shape[0],1,img_row,img_col)\r\n",
        "  x_test = x_test.reshape(x_test.shape[0],1,img_row,img_col)\r\n",
        "  input_shape = (1,img_row,img_col)"
      ],
      "execution_count": 8,
      "outputs": []
    },
    {
      "cell_type": "code",
      "metadata": {
        "id": "FdpKOonh6yGm"
      },
      "source": [
        "x_train = x_train/255.0\r\n",
        "x_test = x_test/255.0"
      ],
      "execution_count": 9,
      "outputs": []
    },
    {
      "cell_type": "code",
      "metadata": {
        "colab": {
          "base_uri": "https://localhost:8080/"
        },
        "id": "q7rjLg_Y8CBw",
        "outputId": "fe63086e-2b71-46c5-b50e-673bb240df33"
      },
      "source": [
        "print('x_shape =',x_test.shape)"
      ],
      "execution_count": 14,
      "outputs": [
        {
          "output_type": "stream",
          "text": [
            "x_shape = (10000, 1, 28, 28)\n"
          ],
          "name": "stdout"
        }
      ]
    },
    {
      "cell_type": "code",
      "metadata": {
        "id": "sixQM4Lh8eFi"
      },
      "source": [
        ""
      ],
      "execution_count": null,
      "outputs": []
    }
  ]
}