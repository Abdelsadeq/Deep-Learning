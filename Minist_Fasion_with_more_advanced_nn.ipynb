{
  "nbformat": 4,
  "nbformat_minor": 0,
  "metadata": {
    "colab": {
      "name": "Minist_Fasion_with_more_advanced_nn.ipynb",
      "provenance": [],
      "authorship_tag": "ABX9TyP7Auo43iLnZeeeGk8Bqh5z",
      "include_colab_link": true
    },
    "kernelspec": {
      "name": "python3",
      "display_name": "Python 3"
    },
    "accelerator": "GPU"
  },
  "cells": [
    {
      "cell_type": "markdown",
      "metadata": {
        "id": "view-in-github",
        "colab_type": "text"
      },
      "source": [
        "<a href=\"https://colab.research.google.com/github/Abdelsadeq/Deep-Learning/blob/main/Minist_Fasion_with_more_advanced_nn.ipynb\" target=\"_parent\"><img src=\"https://colab.research.google.com/assets/colab-badge.svg\" alt=\"Open In Colab\"/></a>"
      ]
    },
    {
      "cell_type": "code",
      "metadata": {
        "id": "Hvct7SAwwUU1"
      },
      "source": [
        "from __future__ import print_function\r\n",
        "import numpy as np\r\n",
        "import pandas as pd\r\n",
        "import matplotlib.pyplot as plt\r\n",
        "import keras\r\n",
        "from keras.models import Sequential\r\n",
        "from keras.layers import Dense,Dropout,Flatten\r\n",
        "from keras.layers import Conv2D,MaxPool2D\r\n",
        "from keras import backend as k\r\n",
        "#keras.set_image_dim_ordering('th')\r\n"
      ],
      "execution_count": 1,
      "outputs": []
    },
    {
      "cell_type": "code",
      "metadata": {
        "id": "hB3MmNMPBYmV"
      },
      "source": [
        "k.set_image_data_format('channels_first')"
      ],
      "execution_count": 2,
      "outputs": []
    },
    {
      "cell_type": "code",
      "metadata": {
        "id": "MWvwWGFdzAzN"
      },
      "source": [
        "batch_size = 128\r\n",
        "num_classes = 10\r\n",
        "epocs = 12\r\n"
      ],
      "execution_count": 3,
      "outputs": []
    },
    {
      "cell_type": "code",
      "metadata": {
        "colab": {
          "base_uri": "https://localhost:8080/"
        },
        "id": "3cF6XgsBzQ2I",
        "outputId": "efdeb6bb-84b8-4838-bb0d-c736bff25e38"
      },
      "source": [
        "img_row, img_col = 28,28\r\n",
        "(x_train, y_train),(x_test, y_test) = keras.datasets.mnist.load_data()"
      ],
      "execution_count": 4,
      "outputs": [
        {
          "output_type": "stream",
          "text": [
            "Downloading data from https://storage.googleapis.com/tensorflow/tf-keras-datasets/mnist.npz\n",
            "11493376/11490434 [==============================] - 0s 0us/step\n"
          ],
          "name": "stdout"
        }
      ]
    },
    {
      "cell_type": "code",
      "metadata": {
        "id": "iOLh4yKD5xIu"
      },
      "source": [
        "if k.image_data_format == 'channels_first':\r\n",
        "  x_train = x_train.reshape(x_train.shape[0],1,img_row,img_col)\r\n",
        "  x_test = x_test.reshape(x_test.shape[0],1,img_row,img_col)\r\n",
        "  #y_test = y_test.reshape(y_test.shape[0],img_row,img_col,1)\r\n",
        "  #y_train = y_train.reshape(y_train.shape[0],img_row,img_col)\r\n",
        "  input_shape = (1,img_row,img_col)\r\n",
        "else:\r\n",
        "  x_train = x_train.reshape(x_train.shape[0],1,img_row,img_col)\r\n",
        "  x_test = x_test.reshape(x_test.shape[0],1,img_row,img_col)\r\n",
        "  #y_test = y_test.reshape(y_test.shape[0],img_row,img_col,1)\r\n",
        "  #y_train = y_train.reshape(y_train.shape[0],img_row,img_col)\r\n",
        "  input_shape = (1,img_row,img_col)"
      ],
      "execution_count": 5,
      "outputs": []
    },
    {
      "cell_type": "code",
      "metadata": {
        "id": "FdpKOonh6yGm"
      },
      "source": [
        "x_train = x_train/255.0\r\n",
        "x_test = x_test/255.0"
      ],
      "execution_count": 6,
      "outputs": []
    },
    {
      "cell_type": "code",
      "metadata": {
        "colab": {
          "base_uri": "https://localhost:8080/"
        },
        "id": "q7rjLg_Y8CBw",
        "outputId": "8a9adeed-3efd-4d80-95a3-ae1f3c46376a"
      },
      "source": [
        "print('x_shape =',x_test.shape)"
      ],
      "execution_count": 7,
      "outputs": [
        {
          "output_type": "stream",
          "text": [
            "x_shape = (10000, 1, 28, 28)\n"
          ],
          "name": "stdout"
        }
      ]
    },
    {
      "cell_type": "code",
      "metadata": {
        "id": "sixQM4Lh8eFi"
      },
      "source": [
        "y_test = keras.utils.to_categorical(y_test,num_classes)\r\n",
        "y_train = keras.utils.to_categorical(y_train,num_classes)\r\n"
      ],
      "execution_count": 8,
      "outputs": []
    },
    {
      "cell_type": "code",
      "metadata": {
        "colab": {
          "base_uri": "https://localhost:8080/"
        },
        "id": "1asUd195_JBM",
        "outputId": "8228eace-f182-43aa-a284-037939a683a2"
      },
      "source": [
        "print('binary class :',y_test[10])"
      ],
      "execution_count": 9,
      "outputs": [
        {
          "output_type": "stream",
          "text": [
            "binary class : [1. 0. 0. 0. 0. 0. 0. 0. 0. 0.]\n"
          ],
          "name": "stdout"
        }
      ]
    },
    {
      "cell_type": "code",
      "metadata": {
        "id": "6-D7VSI2PC-9"
      },
      "source": [
        "model = keras.Sequential()"
      ],
      "execution_count": 10,
      "outputs": []
    },
    {
      "cell_type": "code",
      "metadata": {
        "id": "Y2-5UsDz_S9v",
        "colab": {
          "base_uri": "https://localhost:8080/"
        },
        "outputId": "156e64f7-df61-4441-9163-6a9b9068326e"
      },
      "source": [
        "\r\n",
        "model.add(Conv2D(32,kernel_size=(3,3),activation = 'relu',input_shape= input_shape))\r\n",
        "model.add(Conv2D(64,kernel_size=(3,3),\r\n",
        "                 activation = 'relu'))\r\n",
        "\r\n",
        "model.add(MaxPool2D(pool_size=(2,2)))\r\n",
        "\r\n",
        "model.add(Flatten())\r\n",
        "model.add(Dense(128,activation='relu'))\r\n",
        "\r\n",
        "model.add(Dense(num_classes,activation='softmax'))\r\n",
        "model.summary()"
      ],
      "execution_count": 11,
      "outputs": [
        {
          "output_type": "stream",
          "text": [
            "Model: \"sequential\"\n",
            "_________________________________________________________________\n",
            "Layer (type)                 Output Shape              Param #   \n",
            "=================================================================\n",
            "conv2d (Conv2D)              (None, 32, 26, 26)        320       \n",
            "_________________________________________________________________\n",
            "conv2d_1 (Conv2D)            (None, 64, 24, 24)        18496     \n",
            "_________________________________________________________________\n",
            "max_pooling2d (MaxPooling2D) (None, 64, 12, 12)        0         \n",
            "_________________________________________________________________\n",
            "flatten (Flatten)            (None, 9216)              0         \n",
            "_________________________________________________________________\n",
            "dense (Dense)                (None, 128)               1179776   \n",
            "_________________________________________________________________\n",
            "dense_1 (Dense)              (None, 10)                1290      \n",
            "=================================================================\n",
            "Total params: 1,199,882\n",
            "Trainable params: 1,199,882\n",
            "Non-trainable params: 0\n",
            "_________________________________________________________________\n"
          ],
          "name": "stdout"
        }
      ]
    },
    {
      "cell_type": "code",
      "metadata": {
        "id": "rVCFKQc0RGLs"
      },
      "source": [
        "\r\n",
        "model.compile(loss=keras.losses.categorical_crossentropy,\r\n",
        "              optimizer=keras.optimizers.Adadelta(),\r\n",
        "              metrics=['accuracy'])\r\n"
      ],
      "execution_count": 12,
      "outputs": []
    },
    {
      "cell_type": "code",
      "metadata": {
        "colab": {
          "base_uri": "https://localhost:8080/"
        },
        "id": "3ux6ESHL8qov",
        "outputId": "8b917f26-5815-4140-f914-504e576235b2"
      },
      "source": [
        "model.fit(x_train,\r\n",
        "          y_train,\r\n",
        "          batch_size=batch_size,\r\n",
        "          epochs=epocs,\r\n",
        "          verbose=1,\r\n",
        "          validation_data=(x_test,y_test))"
      ],
      "execution_count": 13,
      "outputs": [
        {
          "output_type": "stream",
          "text": [
            "Epoch 1/12\n",
            "469/469 [==============================] - 11s 9ms/step - loss: 2.2841 - accuracy: 0.1354 - val_loss: 2.2186 - val_accuracy: 0.3989\n",
            "Epoch 2/12\n",
            "469/469 [==============================] - 4s 8ms/step - loss: 2.1926 - accuracy: 0.4722 - val_loss: 2.0938 - val_accuracy: 0.6258\n",
            "Epoch 3/12\n",
            "469/469 [==============================] - 4s 7ms/step - loss: 2.0546 - accuracy: 0.6437 - val_loss: 1.8870 - val_accuracy: 0.7077\n",
            "Epoch 4/12\n",
            "469/469 [==============================] - 4s 8ms/step - loss: 1.8217 - accuracy: 0.7194 - val_loss: 1.5572 - val_accuracy: 0.7622\n",
            "Epoch 5/12\n",
            "469/469 [==============================] - 4s 8ms/step - loss: 1.4735 - accuracy: 0.7655 - val_loss: 1.1633 - val_accuracy: 0.7988\n",
            "Epoch 6/12\n",
            "469/469 [==============================] - 4s 8ms/step - loss: 1.1001 - accuracy: 0.7962 - val_loss: 0.8611 - val_accuracy: 0.8234\n",
            "Epoch 7/12\n",
            "469/469 [==============================] - 4s 8ms/step - loss: 0.8323 - accuracy: 0.8195 - val_loss: 0.6837 - val_accuracy: 0.8435\n",
            "Epoch 8/12\n",
            "469/469 [==============================] - 4s 8ms/step - loss: 0.6800 - accuracy: 0.8364 - val_loss: 0.5825 - val_accuracy: 0.8574\n",
            "Epoch 9/12\n",
            "469/469 [==============================] - 4s 8ms/step - loss: 0.5912 - accuracy: 0.8489 - val_loss: 0.5184 - val_accuracy: 0.8683\n",
            "Epoch 10/12\n",
            "469/469 [==============================] - 4s 8ms/step - loss: 0.5302 - accuracy: 0.8595 - val_loss: 0.4754 - val_accuracy: 0.8757\n",
            "Epoch 11/12\n",
            "469/469 [==============================] - 4s 8ms/step - loss: 0.4878 - accuracy: 0.8672 - val_loss: 0.4436 - val_accuracy: 0.8829\n",
            "Epoch 12/12\n",
            "469/469 [==============================] - 4s 8ms/step - loss: 0.4600 - accuracy: 0.8736 - val_loss: 0.4193 - val_accuracy: 0.8886\n"
          ],
          "name": "stdout"
        },
        {
          "output_type": "execute_result",
          "data": {
            "text/plain": [
              "<tensorflow.python.keras.callbacks.History at 0x7fe3d025f978>"
            ]
          },
          "metadata": {
            "tags": []
          },
          "execution_count": 13
        }
      ]
    },
    {
      "cell_type": "code",
      "metadata": {
        "colab": {
          "base_uri": "https://localhost:8080/"
        },
        "id": "1MQV3Wqp9aW3",
        "outputId": "5e5dcfde-fee4-4ca8-a22d-f618c8054054"
      },
      "source": [
        "loss, acc =model.evaluate(x_test,y_test)\r\n",
        "print('accracy', acc)"
      ],
      "execution_count": 14,
      "outputs": [
        {
          "output_type": "stream",
          "text": [
            "313/313 [==============================] - 1s 3ms/step - loss: 0.4193 - accuracy: 0.8886\n",
            "accracy 0.8885999917984009\n"
          ],
          "name": "stdout"
        }
      ]
    },
    {
      "cell_type": "code",
      "metadata": {
        "id": "tC0kZocWE26o"
      },
      "source": [
        "model.save('Model1.h5')"
      ],
      "execution_count": 15,
      "outputs": []
    },
    {
      "cell_type": "code",
      "metadata": {
        "id": "satwL-QdNhML"
      },
      "source": [
        "from keras.preprocessing.image import load_img\r\n",
        "from keras.preprocessing.image import img_to_array\r\n",
        "from keras.models import load_model"
      ],
      "execution_count": 16,
      "outputs": []
    },
    {
      "cell_type": "code",
      "metadata": {
        "id": "7VRa0Jk_OVA7"
      },
      "source": [
        "def load_imag(filename):\r\n",
        "  img = load_img(filename,color_mode = \"grayscale\",target_size=(28,28))\r\n",
        "  img = img_to_array(img)\r\n",
        "  img = img.reshape(1,1,28,28)\r\n",
        "  img = img.astype('float32')\r\n",
        "  img = img/255.0\r\n",
        "  return img\r\n"
      ],
      "execution_count": 27,
      "outputs": []
    },
    {
      "cell_type": "code",
      "metadata": {
        "id": "EGT_qS-gPmIz"
      },
      "source": [
        "def run_example():\r\n",
        "  img = load_imag('/content/sample_image.png')\r\n",
        "  model = load_model('/content/Model1.h5')\r\n",
        "  result = model.predict_classes(img)\r\n",
        "  print (result[0])"
      ],
      "execution_count": 28,
      "outputs": []
    },
    {
      "cell_type": "code",
      "metadata": {
        "id": "g9T7KRPJQ10J",
        "outputId": "bd16cfc1-dfbe-4002-8311-a4c40c67f987",
        "colab": {
          "base_uri": "https://localhost:8080/"
        }
      },
      "source": [
        "run_example()"
      ],
      "execution_count": 29,
      "outputs": [
        {
          "output_type": "stream",
          "text": [
            "2\n"
          ],
          "name": "stdout"
        },
        {
          "output_type": "stream",
          "text": [
            "/usr/local/lib/python3.6/dist-packages/tensorflow/python/keras/engine/sequential.py:450: UserWarning: `model.predict_classes()` is deprecated and will be removed after 2021-01-01. Please use instead:* `np.argmax(model.predict(x), axis=-1)`,   if your model does multi-class classification   (e.g. if it uses a `softmax` last-layer activation).* `(model.predict(x) > 0.5).astype(\"int32\")`,   if your model does binary classification   (e.g. if it uses a `sigmoid` last-layer activation).\n",
            "  warnings.warn('`model.predict_classes()` is deprecated and '\n"
          ],
          "name": "stderr"
        }
      ]
    },
    {
      "cell_type": "code",
      "metadata": {
        "id": "DCl_9jW0P-pl"
      },
      "source": [
        ""
      ],
      "execution_count": null,
      "outputs": []
    },
    {
      "cell_type": "code",
      "metadata": {
        "id": "-adsMhh7Q47T"
      },
      "source": [
        ""
      ],
      "execution_count": null,
      "outputs": []
    }
  ]
}