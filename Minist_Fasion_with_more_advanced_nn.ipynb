{
  "nbformat": 4,
  "nbformat_minor": 0,
  "metadata": {
    "colab": {
      "name": "Minist_Fasion_with_more_advanced_nn.ipynb",
      "provenance": [],
      "authorship_tag": "ABX9TyNziXnaZRkk/sfIFWXCMFKk",
      "include_colab_link": true
    },
    "kernelspec": {
      "name": "python3",
      "display_name": "Python 3"
    },
    "accelerator": "GPU"
  },
  "cells": [
    {
      "cell_type": "markdown",
      "metadata": {
        "id": "view-in-github",
        "colab_type": "text"
      },
      "source": [
        "<a href=\"https://colab.research.google.com/github/Abdelsadeq/Deep-Learning/blob/main/Minist_Fasion_with_more_advanced_nn.ipynb\" target=\"_parent\"><img src=\"https://colab.research.google.com/assets/colab-badge.svg\" alt=\"Open In Colab\"/></a>"
      ]
    },
    {
      "cell_type": "code",
      "metadata": {
        "id": "Hvct7SAwwUU1"
      },
      "source": [
        "from __future__ import print_function\r\n",
        "import numpy as np\r\n",
        "import pandas as pd\r\n",
        "import matplotlib.pyplot as plt\r\n",
        "import keras\r\n",
        "from keras.models import Sequential\r\n",
        "from keras.layers import Dense,Dropout,Flatten\r\n",
        "from keras.layers import Conv2D,MaxPool2D\r\n",
        "from keras import backend as k\r\n"
      ],
      "execution_count": 1,
      "outputs": []
    },
    {
      "cell_type": "code",
      "metadata": {
        "id": "MWvwWGFdzAzN"
      },
      "source": [
        "batch_size = 128\r\n",
        "num_classes = 10\r\n",
        "epocs = 12\r\n"
      ],
      "execution_count": 2,
      "outputs": []
    },
    {
      "cell_type": "code",
      "metadata": {
        "id": "3cF6XgsBzQ2I"
      },
      "source": [
        "img_row, img_col = 28,28\r\n",
        "(x_train, y_train),(x_test, y_test) = "
      ],
      "execution_count": null,
      "outputs": []
    }
  ]
}