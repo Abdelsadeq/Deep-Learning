{
  "nbformat": 4,
  "nbformat_minor": 0,
  "metadata": {
    "colab": {
      "name": "Minist_Fasion_with_more_advanced_nn.ipynb",
      "provenance": [],
      "authorship_tag": "ABX9TyOJH1+E63jPPjKfCEwWsj0i",
      "include_colab_link": true
    },
    "kernelspec": {
      "name": "python3",
      "display_name": "Python 3"
    },
    "accelerator": "GPU"
  },
  "cells": [
    {
      "cell_type": "markdown",
      "metadata": {
        "id": "view-in-github",
        "colab_type": "text"
      },
      "source": [
        "<a href=\"https://colab.research.google.com/github/Abdelsadeq/Deep-Learning/blob/main/Minist_Fasion_with_more_advanced_nn.ipynb\" target=\"_parent\"><img src=\"https://colab.research.google.com/assets/colab-badge.svg\" alt=\"Open In Colab\"/></a>"
      ]
    },
    {
      "cell_type": "code",
      "metadata": {
        "id": "Hvct7SAwwUU1"
      },
      "source": [
        "#from __future__ import print_function\n",
        "import numpy as np\n",
        "import pandas as pd\n",
        "import matplotlib.pyplot as plt\n",
        "\n",
        "from tensorflow.keras.models import Sequential\n",
        "from tensorflow.keras.layers import Dense,Dropout,Flatten\n",
        "from tensorflow.keras.layers import Conv2D,MaxPool2D\n",
        "\n",
        "\n",
        "#keras.set_image_dim_ordering('th')\n"
      ],
      "execution_count": 1,
      "outputs": []
    },
    {
      "cell_type": "code",
      "source": [
        "from tensorflow.keras import backend as k"
      ],
      "metadata": {
        "id": "gusBwqxAyrMr"
      },
      "execution_count": 2,
      "outputs": []
    },
    {
      "cell_type": "code",
      "source": [
        "import tensorflow.keras as keras"
      ],
      "metadata": {
        "id": "IMpSNpvSyjAa"
      },
      "execution_count": 3,
      "outputs": []
    },
    {
      "cell_type": "code",
      "metadata": {
        "id": "hB3MmNMPBYmV"
      },
      "source": [
        "k.set_image_data_format('channels_first')"
      ],
      "execution_count": 4,
      "outputs": []
    },
    {
      "cell_type": "code",
      "metadata": {
        "id": "MWvwWGFdzAzN"
      },
      "source": [
        "batch_size = 128\n",
        "num_classes = 10\n",
        "epocs = 12\n"
      ],
      "execution_count": 5,
      "outputs": []
    },
    {
      "cell_type": "code",
      "metadata": {
        "id": "3cF6XgsBzQ2I"
      },
      "source": [
        "img_row, img_col = 28,28\n",
        "(x_train, y_train),(x_test, y_test) = keras.datasets.mnist.load_data()"
      ],
      "execution_count": 14,
      "outputs": []
    },
    {
      "cell_type": "code",
      "source": [
        "len(x_train)"
      ],
      "metadata": {
        "id": "hJSHOplVy0ZS",
        "outputId": "0675e3d9-bc10-4c2f-c0bf-379395107d74",
        "colab": {
          "base_uri": "https://localhost:8080/"
        }
      },
      "execution_count": 15,
      "outputs": [
        {
          "output_type": "execute_result",
          "data": {
            "text/plain": [
              "60000"
            ]
          },
          "metadata": {},
          "execution_count": 15
        }
      ]
    },
    {
      "cell_type": "code",
      "source": [
        "x_train.shape"
      ],
      "metadata": {
        "id": "tY-5N0sDkZNs",
        "outputId": "6784297c-ec56-483f-c140-023d3b915e73",
        "colab": {
          "base_uri": "https://localhost:8080/"
        }
      },
      "execution_count": 16,
      "outputs": [
        {
          "output_type": "execute_result",
          "data": {
            "text/plain": [
              "(60000, 28, 28)"
            ]
          },
          "metadata": {},
          "execution_count": 16
        }
      ]
    },
    {
      "cell_type": "code",
      "source": [
        "x_train.shape"
      ],
      "metadata": {
        "id": "agHRGp-fjle2",
        "outputId": "cd96467d-04ff-4d3d-82f6-27b1360d89ed",
        "colab": {
          "base_uri": "https://localhost:8080/"
        }
      },
      "execution_count": 13,
      "outputs": [
        {
          "output_type": "execute_result",
          "data": {
            "text/plain": [
              "(60000, 1, 28, 28)"
            ]
          },
          "metadata": {},
          "execution_count": 13
        }
      ]
    },
    {
      "cell_type": "code",
      "source": [
        "len(x_test)"
      ],
      "metadata": {
        "id": "B2XUIqNWjQFh",
        "outputId": "708b5e4d-3389-4b55-a6ce-50d0ace5c2c5",
        "colab": {
          "base_uri": "https://localhost:8080/"
        }
      },
      "execution_count": 10,
      "outputs": [
        {
          "output_type": "execute_result",
          "data": {
            "text/plain": [
              "10000"
            ]
          },
          "metadata": {},
          "execution_count": 10
        }
      ]
    },
    {
      "cell_type": "code",
      "metadata": {
        "id": "iOLh4yKD5xIu"
      },
      "source": [
        "x_train = x_train.reshape(x_train.shape[0],1,img_row,img_col)\n",
        "x_test = x_test.reshape(x_test.shape[0],1,img_row,img_col)\n",
        "#y_test = y_test.reshape(y_test.shape[0],img_row,img_col,1)\n",
        "#y_train = y_train.reshape(y_train.shape[0],img_row,img_col)\n",
        "input_shape = (1,img_row,img_col)"
      ],
      "execution_count": 18,
      "outputs": []
    },
    {
      "cell_type": "code",
      "metadata": {
        "id": "FdpKOonh6yGm"
      },
      "source": [
        "x_train = x_train/255.0\n",
        "x_test = x_test/255.0"
      ],
      "execution_count": 19,
      "outputs": []
    },
    {
      "cell_type": "code",
      "metadata": {
        "colab": {
          "base_uri": "https://localhost:8080/"
        },
        "id": "q7rjLg_Y8CBw",
        "outputId": "0c3ac1c6-6744-4060-9dd5-f1f34a2bc291"
      },
      "source": [
        "print('x_shape =',x_test.shape)"
      ],
      "execution_count": 20,
      "outputs": [
        {
          "output_type": "stream",
          "name": "stdout",
          "text": [
            "x_shape = (10000, 1, 28, 28)\n"
          ]
        }
      ]
    },
    {
      "cell_type": "code",
      "source": [],
      "metadata": {
        "id": "NUNa0ByynuQL"
      },
      "execution_count": null,
      "outputs": []
    },
    {
      "cell_type": "code",
      "metadata": {
        "id": "sixQM4Lh8eFi"
      },
      "source": [
        "y_test = keras.utils.to_categorical(y_test,num_classes)\n",
        "y_train = keras.utils.to_categorical(y_train,num_classes)\n"
      ],
      "execution_count": 21,
      "outputs": []
    },
    {
      "cell_type": "code",
      "metadata": {
        "colab": {
          "base_uri": "https://localhost:8080/"
        },
        "id": "1asUd195_JBM",
        "outputId": "644ebd81-808a-4c9d-c2c5-2e0001ef9165"
      },
      "source": [
        "print('categorical class :',y_test[10])"
      ],
      "execution_count": 24,
      "outputs": [
        {
          "output_type": "stream",
          "name": "stdout",
          "text": [
            "categorical class : [1. 0. 0. 0. 0. 0. 0. 0. 0. 0.]\n"
          ]
        }
      ]
    },
    {
      "cell_type": "code",
      "metadata": {
        "id": "6-D7VSI2PC-9"
      },
      "source": [
        "model = keras.Sequential()"
      ],
      "execution_count": 23,
      "outputs": []
    },
    {
      "cell_type": "code",
      "metadata": {
        "id": "Y2-5UsDz_S9v",
        "colab": {
          "base_uri": "https://localhost:8080/"
        },
        "outputId": "ff7c24b3-6fdb-43e2-aa17-9a7d64361bcd"
      },
      "source": [
        "\n",
        "model.add(Conv2D(32,kernel_size=(3,3),activation = 'relu',input_shape= input_shape))\n",
        "model.add(Conv2D(64,kernel_size=(3,3),\n",
        "                 activation = 'relu'))\n",
        "\n",
        "model.add(MaxPool2D(pool_size=(2,2)))\n",
        "\n",
        "model.add(Flatten())\n",
        "model.add(Dense(128,activation='relu'))\n",
        "\n",
        "model.add(Dense(num_classes,activation='softmax'))\n",
        "model.summary()"
      ],
      "execution_count": 25,
      "outputs": [
        {
          "output_type": "stream",
          "name": "stdout",
          "text": [
            "Model: \"sequential\"\n",
            "_________________________________________________________________\n",
            " Layer (type)                Output Shape              Param #   \n",
            "=================================================================\n",
            " conv2d (Conv2D)             (None, 32, 26, 26)        320       \n",
            "                                                                 \n",
            " conv2d_1 (Conv2D)           (None, 64, 24, 24)        18496     \n",
            "                                                                 \n",
            " max_pooling2d (MaxPooling2D  (None, 64, 12, 12)       0         \n",
            " )                                                               \n",
            "                                                                 \n",
            " flatten (Flatten)           (None, 9216)              0         \n",
            "                                                                 \n",
            " dense (Dense)               (None, 128)               1179776   \n",
            "                                                                 \n",
            " dense_1 (Dense)             (None, 10)                1290      \n",
            "                                                                 \n",
            "=================================================================\n",
            "Total params: 1,199,882\n",
            "Trainable params: 1,199,882\n",
            "Non-trainable params: 0\n",
            "_________________________________________________________________\n"
          ]
        }
      ]
    },
    {
      "cell_type": "code",
      "metadata": {
        "id": "rVCFKQc0RGLs"
      },
      "source": [
        "\n",
        "model.compile(loss=keras.losses.categorical_crossentropy,\n",
        "              optimizer=keras.optimizers.Adadelta(),\n",
        "              metrics=['accuracy'])\n"
      ],
      "execution_count": 26,
      "outputs": []
    },
    {
      "cell_type": "code",
      "metadata": {
        "colab": {
          "base_uri": "https://localhost:8080/"
        },
        "id": "3ux6ESHL8qov",
        "outputId": "d7e0b455-fcdb-4eff-d340-2029a2445dde"
      },
      "source": [
        "model.fit(x_train,\n",
        "          y_train,\n",
        "          batch_size=batch_size,\n",
        "          epochs=epocs,\n",
        "          verbose=1,\n",
        "          validation_data=(x_test,y_test))"
      ],
      "execution_count": 27,
      "outputs": [
        {
          "output_type": "stream",
          "name": "stdout",
          "text": [
            "Epoch 1/12\n",
            "469/469 [==============================] - 13s 9ms/step - loss: 2.2699 - accuracy: 0.1277 - val_loss: 2.2283 - val_accuracy: 0.2511\n",
            "Epoch 2/12\n",
            "469/469 [==============================] - 4s 9ms/step - loss: 2.1788 - accuracy: 0.3977 - val_loss: 2.1137 - val_accuracy: 0.5238\n",
            "Epoch 3/12\n",
            "469/469 [==============================] - 4s 8ms/step - loss: 2.0316 - accuracy: 0.5900 - val_loss: 1.9210 - val_accuracy: 0.6525\n",
            "Epoch 4/12\n",
            "469/469 [==============================] - 4s 9ms/step - loss: 1.7863 - accuracy: 0.6764 - val_loss: 1.6119 - val_accuracy: 0.7222\n",
            "Epoch 5/12\n",
            "469/469 [==============================] - 4s 8ms/step - loss: 1.4371 - accuracy: 0.7348 - val_loss: 1.2308 - val_accuracy: 0.7696\n",
            "Epoch 6/12\n",
            "469/469 [==============================] - 4s 8ms/step - loss: 1.0844 - accuracy: 0.7798 - val_loss: 0.9160 - val_accuracy: 0.8097\n",
            "Epoch 7/12\n",
            "469/469 [==============================] - 4s 8ms/step - loss: 0.8332 - accuracy: 0.8122 - val_loss: 0.7231 - val_accuracy: 0.8335\n",
            "Epoch 8/12\n",
            "469/469 [==============================] - 4s 8ms/step - loss: 0.6834 - accuracy: 0.8324 - val_loss: 0.6095 - val_accuracy: 0.8483\n",
            "Epoch 9/12\n",
            "469/469 [==============================] - 4s 8ms/step - loss: 0.5916 - accuracy: 0.8485 - val_loss: 0.5374 - val_accuracy: 0.8635\n",
            "Epoch 10/12\n",
            "469/469 [==============================] - 4s 8ms/step - loss: 0.5313 - accuracy: 0.8598 - val_loss: 0.4883 - val_accuracy: 0.8735\n",
            "Epoch 11/12\n",
            "469/469 [==============================] - 4s 9ms/step - loss: 0.4892 - accuracy: 0.8687 - val_loss: 0.4536 - val_accuracy: 0.8806\n",
            "Epoch 12/12\n",
            "469/469 [==============================] - 4s 8ms/step - loss: 0.4586 - accuracy: 0.8753 - val_loss: 0.4278 - val_accuracy: 0.8855\n"
          ]
        },
        {
          "output_type": "execute_result",
          "data": {
            "text/plain": [
              "<keras.callbacks.History at 0x7f6cd4628100>"
            ]
          },
          "metadata": {},
          "execution_count": 27
        }
      ]
    },
    {
      "cell_type": "code",
      "metadata": {
        "colab": {
          "base_uri": "https://localhost:8080/"
        },
        "id": "1MQV3Wqp9aW3",
        "outputId": "287df3a0-d3de-41e9-b7ec-4c305e940df1"
      },
      "source": [
        "loss, acc =model.evaluate(x_test,y_test)\n",
        "print('accracy', acc)"
      ],
      "execution_count": 28,
      "outputs": [
        {
          "output_type": "stream",
          "name": "stdout",
          "text": [
            "313/313 [==============================] - 1s 3ms/step - loss: 0.4278 - accuracy: 0.8855\n",
            "accracy 0.8855000138282776\n"
          ]
        }
      ]
    },
    {
      "cell_type": "code",
      "metadata": {
        "id": "tC0kZocWE26o"
      },
      "source": [
        "model.save('Model1.h5')"
      ],
      "execution_count": 29,
      "outputs": []
    },
    {
      "cell_type": "code",
      "metadata": {
        "id": "satwL-QdNhML"
      },
      "source": [
        "from tensorflow.keras.preprocessing.image import load_img\n",
        "from tensorflow.keras.preprocessing.image import img_to_array\n",
        "from tensorflow.keras.models import load_model\n",
        "from numpy import argmax"
      ],
      "execution_count": 40,
      "outputs": []
    },
    {
      "cell_type": "code",
      "metadata": {
        "id": "7VRa0Jk_OVA7"
      },
      "source": [
        "def load_imag(filename):\n",
        "  img = load_img(filename,color_mode = \"grayscale\",target_size=(28,28))\n",
        "  img = img_to_array(img)\n",
        "  img = img.reshape(1,1,28,28)\n",
        "  img = img.astype('float32')\n",
        "  img = img/255.0\n",
        "  return img\n"
      ],
      "execution_count": 33,
      "outputs": []
    },
    {
      "cell_type": "code",
      "metadata": {
        "id": "EGT_qS-gPmIz"
      },
      "source": [
        "def run_example():\n",
        "  img = load_imag('/content/test.png')\n",
        "  model = load_model('/content/Model1.h5')\n",
        "  result = model.predict(img)\n",
        "  if argmax(result[0]) ==3:\n",
        "    print (\"Three\")\n",
        "  #print (argmax(result[0]))"
      ],
      "execution_count": 43,
      "outputs": []
    },
    {
      "cell_type": "code",
      "metadata": {
        "id": "g9T7KRPJQ10J",
        "outputId": "0b89441a-2f5b-4f5b-c315-4cd3d2e8a854",
        "colab": {
          "base_uri": "https://localhost:8080/"
        }
      },
      "source": [
        "run_example()"
      ],
      "execution_count": 44,
      "outputs": [
        {
          "output_type": "stream",
          "name": "stdout",
          "text": [
            "1/1 [==============================] - 0s 51ms/step\n",
            "Three\n"
          ]
        }
      ]
    },
    {
      "cell_type": "code",
      "metadata": {
        "id": "DCl_9jW0P-pl"
      },
      "source": [],
      "execution_count": null,
      "outputs": []
    },
    {
      "cell_type": "code",
      "metadata": {
        "id": "-adsMhh7Q47T"
      },
      "source": [],
      "execution_count": null,
      "outputs": []
    }
  ]
}